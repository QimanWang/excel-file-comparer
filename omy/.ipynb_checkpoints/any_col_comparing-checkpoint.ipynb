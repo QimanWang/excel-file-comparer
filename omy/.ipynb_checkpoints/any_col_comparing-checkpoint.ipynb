{
 "cells": [
  {
   "cell_type": "code",
   "execution_count": 1,
   "metadata": {
    "collapsed": true
   },
   "outputs": [],
   "source": [
    "import pandas as pd\n",
    "import xlsxwriter\n",
    "import os\n",
    "from datetime import datetime"
   ]
  },
  {
   "cell_type": "code",
   "execution_count": 2,
   "metadata": {
    "collapsed": false
   },
   "outputs": [
    {
     "name": "stdout",
     "output_type": "stream",
     "text": [
      "Files detected:\n",
      "Booking.com 8.24-31.xls\n",
      "30031-GuestListDetailed ok 8.24-8.31.xlsx\n",
      "30031-GuestListDetailed cancel 8.24-8.31.xlsx\n",
      "Press Enter key to begin the process.\n"
     ]
    }
   ],
   "source": [
    "# find the files neede to process\n",
    "ok_file = \"\"\n",
    "cancel_file = \"\"\n",
    "booking_file = \"\"\n",
    "files = [f for f in os.listdir('.') if os.path.isfile(f)]\n",
    "for f in files:\n",
    "    if \" ok \" in f and f[:2] != \"~$\":\n",
    "        ok_file = f\n",
    "    if \" cancel \" in f and f[:2] != \"~$\":\n",
    "        cancel_file = f\n",
    "    if \"Booking.com\" in f and f[:2] != \"~$\":\n",
    "        booking_file = f\n",
    "\n",
    "msg = \"Files detected:\\n\" + booking_file + \"\\n\" + ok_file + \"\\n\" + cancel_file + \"\\n\" + \"Press Enter key to begin the process.\"\n",
    "a = input(msg)\n"
   ]
  },
  {
   "cell_type": "code",
   "execution_count": 4,
   "metadata": {
    "collapsed": false
   },
   "outputs": [],
   "source": [
    "match = 0\n",
    "diff_price = 0\n",
    "canceled = 0\n",
    "not_found = 0\n",
    "\n",
    "# load and prepare the booking df\n",
    "xl = pd.ExcelFile(booking_file)\n",
    "booking_df = xl.parse(\"Sheet1\", header=0, keep_default_na=False)\n",
    "b_df = booking_df[booking_df['Status '] == 'ok']"
   ]
  },
  {
   "cell_type": "code",
   "execution_count": null,
   "metadata": {
    "collapsed": true
   },
   "outputs": [],
   "source": []
  }
 ],
 "metadata": {
  "kernelspec": {
   "display_name": "Python [conda env:p_3.5]",
   "language": "python",
   "name": "conda-env-p_3.5-py"
  },
  "language_info": {
   "codemirror_mode": {
    "name": "ipython",
    "version": 3
   },
   "file_extension": ".py",
   "mimetype": "text/x-python",
   "name": "python",
   "nbconvert_exporter": "python",
   "pygments_lexer": "ipython3",
   "version": "3.5.3"
  }
 },
 "nbformat": 4,
 "nbformat_minor": 1
}
