{
 "cells": [
  {
   "cell_type": "code",
   "execution_count": 1,
   "metadata": {
    "collapsed": true
   },
   "outputs": [],
   "source": [
    "import pandas as pd\n",
    "import xlsxwriter\n",
    "import os\n",
    "from datetime import datetime"
   ]
  },
  {
   "cell_type": "code",
   "execution_count": 2,
   "metadata": {
    "collapsed": false
   },
   "outputs": [
    {
     "name": "stdout",
     "output_type": "stream",
     "text": [
      "Files detected:\n",
      "Booking.com 8.24-31.xls\n",
      "30031-GuestListDetailed ok 8.24-8.31.xlsx\n",
      "30031-GuestListDetailed cancel 8.24-8.31.xlsx\n",
      "Press Enter key to begin the process.\n"
     ]
    }
   ],
   "source": [
    "# find the files neede to process\n",
    "ok_file = \"\"\n",
    "cancel_file = \"\"\n",
    "booking_file = \"\"\n",
    "files = [f for f in os.listdir('.') if os.path.isfile(f)]\n",
    "for f in files:\n",
    "    if \" ok \" in f and f[:2] != \"~$\":\n",
    "        ok_file = f\n",
    "    if \" cancel \" in f and f[:2] != \"~$\":\n",
    "        cancel_file = f\n",
    "    if \"Booking.com\" in f and f[:2] != \"~$\":\n",
    "        booking_file = f\n",
    "\n",
    "msg = \"Files detected:\\n\" + booking_file + \"\\n\" + ok_file + \"\\n\" + cancel_file + \"\\n\" + \"Press Enter key to begin the process.\"\n",
    "a = input(msg)\n"
   ]
  },
  {
   "cell_type": "code",
   "execution_count": 5,
   "metadata": {
    "collapsed": false
   },
   "outputs": [],
   "source": [
    "match = 0\n",
    "diff_price = 0\n",
    "canceled = 0\n",
    "not_found = 0\n",
    "\n",
    "# load and prepare the booking df\n",
    "xl = pd.ExcelFile(booking_file)\n",
    "booking_df = xl.parse(\"Sheet1\", header=0, keep_default_na=False)\n",
    "b_df = booking_df[booking_df['Status '] == 'ok']"
   ]
  },
  {
   "cell_type": "code",
   "execution_count": 6,
   "metadata": {
    "collapsed": true
   },
   "outputs": [],
   "source": [
    "def same_name(booking_name, hotel_name):\n",
    "    if hotel_name[:5] == 'name\\n':\n",
    "        hotel_name = hotel_name[5:]\n",
    "\n",
    "    hotel_name = hotel_name.split(\",\")\n",
    "    hotel_name = hotel_name[1][1:] + \" \" + hotel_name[0]\n",
    "\n",
    "    if hotel_name == booking_name:\n",
    "        # print(\"h:\", hotel_name, \"b:\", booking_name)\n",
    "        return True\n",
    "    else:\n",
    "        return False\n",
    "\n",
    "\n",
    "def calc_hotel_price(hotel_price, arrival, departure):\n",
    "    # print(\"input: \", booking_price, hotel_price, arrival, departure)\n",
    "\n",
    "    if departure[:2] == \"De\":\n",
    "        departure = departure[9:]\n",
    "        arrival = arrival[7:]\n",
    "        hotel_price = hotel_price[4:]\n",
    "\n",
    "    date_format = \"%m/%d/%Y\"\n",
    "    a = datetime.strptime(departure, date_format)\n",
    "    b = datetime.strptime(arrival, date_format)\n",
    "    delta = a - b\n",
    "    # print(\"hotel price: \", float(delta.days) * float(hotel_price), \"booking price: \", float(booking_price))\n",
    "    # print(float(delta.days) * float(hotel_price) == float(booking_price))\n",
    "    return (float(delta.days) * float(hotel_price))\n"
   ]
  },
  {
   "cell_type": "code",
   "execution_count": 7,
   "metadata": {
    "collapsed": false
   },
   "outputs": [
    {
     "name": "stdout",
     "output_type": "stream",
     "text": [
      "['Name', 'Unnamed: 1', 'Unnamed: 2', 'Unnamed: 3', 'Unnamed: 4', 'Unnamed: 5', 'Unnamed: 6', 'Level', 'Unnamed: 8', 'Unnamed: 9', 'Room Type', 'Unnamed: 11', 'Room', 'Source', 'Unnamed: 14', 'Acct#', 'Unnamed: 16', 'Unnamed: 17', 'CRS#', 'Unnamed: 19', 'Unnamed: 20', 'Status', 'Arrival', 'Unnamed: 23', 'Unnamed: 24', 'Departure', 'Unnamed: 26', 'Unnamed: 27', 'Adult/Child', 'GTD', 'Unnamed: 30', 'Rate', 'Unnamed: 32', 'Unnamed: 33', 'Rate Plan', 'Unnamed: 35', 'Unnamed: 36', 'Unnamed: 37', 'Balance', 'Unnamed: 39', 'Unnamed: 40']\n"
     ]
    }
   ],
   "source": [
    "# loading the ok DF\n",
    "xl = pd.ExcelFile(ok_file)\n",
    "ok_df = xl.parse(\"Sheet1\", header=2, keep_default_na=False, )\n",
    "print(list(ok_df))\n",
    "o_df = ok_df.loc[(ok_df['Name'] != \"\") & (ok_df['Name'] != \"Name\") &\n",
    "                 (ok_df['Name'] != \"Guest List Detail\") &\n",
    "                 (ok_df['Name'] != \"30031 - DAYS INN PHILADELPHIA.\") &\n",
    "                 (ok_df['Name'] != \"Name Arrival Departure Rate\")]\n",
    "\n",
    "# combine ok name\n",
    "for row in range(1, len(o_df)):\n",
    "    if o_df.iloc[row]['Rate'] == '':\n",
    "        o_df.iloc[row - 1]['Name'] = o_df.iloc[row - 1]['Name'] + \" \" + o_df.iloc[row]['Name']\n",
    "\n",
    "# clear all empty rows and finalize df\n",
    "o_df = o_df.loc[(o_df['Rate'] != \"\")]"
   ]
  },
  {
   "cell_type": "code",
   "execution_count": 8,
   "metadata": {
    "collapsed": false
   },
   "outputs": [
    {
     "name": "stdout",
     "output_type": "stream",
     "text": [
      "['Name', 'Unnamed: 1', 'Unnamed: 2', 'Unnamed: 3', 'Unnamed: 4', 'Unnamed: 5', 'Level', 'Unnamed: 7', 'Unnamed: 8', 'Room Type', 'Unnamed: 10', 'Room', 'Source', 'Unnamed: 13', 'Acct#', 'Unnamed: 15', 'Unnamed: 16', 'CRS#', 'Unnamed: 18', 'Unnamed: 19', 'Status', 'Arrival', 'Unnamed: 22', 'Unnamed: 23', 'Departure', 'Unnamed: 25', 'Unnamed: 26', 'Adult/Child', 'GTD', 'Unnamed: 29', 'Rate', 'Unnamed: 31', 'Unnamed: 32', 'Rate Plan', 'Unnamed: 34', 'Unnamed: 35', 'Unnamed: 36', 'Balance', 'Unnamed: 38', 'Unnamed: 39']\n"
     ]
    }
   ],
   "source": [
    "xl = pd.ExcelFile(cancel_file)\n",
    "c_df = xl.parse(\"Sheet1\", header=2, keep_default_na=False, )\n",
    "print(list(c_df))\n",
    "c_df = c_df.loc[(c_df['Name'] != \"\") & (c_df['Name'] != \"Name\") &\n",
    "                (c_df['Name'] != \"Guest List Detail\") &\n",
    "                (c_df['Name'] != \"30031 - DAYS INN PHILADELPHIA.\") &\n",
    "                (c_df['Name'] != \"Name Arrival Departure Rate\")]\n",
    "\n",
    "# combine ok name\n",
    "for row in range(1, len(c_df)):\n",
    "    if c_df.iloc[row]['Rate'] == '':\n",
    "        c_df.iloc[row - 1]['Name'] = c_df.iloc[row - 1]['Name'] + \" \" + c_df.iloc[row]['Name']\n",
    "\n",
    "# clear all empty rows and finalize df\n",
    "c_df = c_df.loc[(c_df['Rate'] != \"\")]\n"
   ]
  },
  {
   "cell_type": "code",
   "execution_count": 9,
   "metadata": {
    "collapsed": false
   },
   "outputs": [
    {
     "name": "stdout",
     "output_type": "stream",
     "text": [
      "begin comparison\n"
     ]
    }
   ],
   "source": [
    "\n",
    "ok_file = \"\"\n",
    "cancel_file = \"\"\n",
    "booking_file = \"\"\n",
    "files = [f for f in os.listdir('.') if os.path.isfile(f)]\n",
    "for f in files:\n",
    "    if \" ok \" in f and f[:2] != \"~$\":\n",
    "        ok_file = f\n",
    "    if \" cancel \" in f and f[:2] != \"~$\":\n",
    "        cancel_file = f\n",
    "    if \" booking \" in f and f[:2] != \"~$\":\n",
    "        booking_file = f\n",
    "\n",
    "#########################################\n",
    "print(\"begin comparison\")\n",
    "# create worksheet\n",
    "workbook = xlsxwriter.Workbook('Expenses.xlsx')\n",
    "worksheet = workbook.add_worksheet()\n",
    "rowm = 0\n",
    "coln = 0\n",
    "worksheet.write(rowm, coln, \"Name\")\n",
    "worksheet.write(rowm, coln + 1, \"Booking.com Price\")\n",
    "worksheet.write(rowm, coln + 2, \"Hotel Price\")\n",
    "worksheet.write(rowm, coln + 3, \"Price difference\")\n",
    "worksheet.write(rowm, coln + 4, \"Discritpion\")\n",
    "rowm += 1\n",
    "\n",
    "workbook_nf = xlsxwriter.Workbook('Customers Not found.xlsx')\n",
    "worksheet_nf = workbook_nf.add_worksheet()\n",
    "row_nf = 0"
   ]
  },
  {
   "cell_type": "code",
   "execution_count": 10,
   "metadata": {
    "collapsed": false
   },
   "outputs": [
    {
     "name": "stdout",
     "output_type": "stream",
     "text": [
      "Joan Aching  Everything match\n",
      "Tyra Simpson  Everything match\n",
      "Jim SÈNE  Can't find customer Name\n",
      "JOHN WEIR  Everything match\n",
      "Maeva Parr  Everything match\n",
      "Lorenzo Harris  Everything match\n",
      "Gerardo Chico  Everything match\n",
      "Julio  Can't find customer Name\n",
      "Fedrique PIERRE 242.97  found in CANCEL file\n",
      "Donna Boodoo  Everything match\n",
      "miao yu  Everything match\n",
      "Vicki  Sankey  Can't find customer Name\n",
      "FRANCES MOSELEY  Everything match\n",
      "maria Santana  Everything match\n",
      "Keri Moss  Everything match\n",
      "marian patterson 410.22  found in Ok file ,but different price\n",
      "Omar Jufaidan  Can't find customer Name\n",
      "Kamila Houhova; Pavel Komarek; Petra Dudova; Vojtech Bartos  Can't find customer Name\n",
      "Paul Holland  Everything match\n",
      "Miara Davenport  Everything match\n",
      "Shaina Silberstein 209.44  found in Ok file ,but different price\n",
      "Jayde Sleight  Everything match\n",
      "Brian McGurl  Everything match\n",
      "  Can't find customer Name\n",
      "Zakary Dakes  Everything match\n",
      "Alberto Gonzsles  Everything match\n",
      "Eric Winslow  Everything match\n",
      "Yaning Qiao  Can't find customer Name\n",
      "  Can't find customer Name\n",
      "Gašper Bricelj  Can't find customer Name\n",
      "dongxu liu  Can't find customer Name\n",
      "Terrance Gullette  Everything match\n",
      "Wang&#47;Yuanxin  Can't find customer Name\n",
      "ji kaiping 227.54  found in Ok file ,but different price\n",
      "Mason Noden  Everything match\n",
      "Valentina Pilia 325.54  found in Ok file ,but different price\n",
      "  Can't find customer Name\n",
      "Terrance Graham 119  found in CANCEL file\n",
      "Namoz Ochilov  Everything match\n",
      "Indira Ramjit  Everything match\n",
      "Marty Boris  Everything match\n",
      "dongxu liu  Everything match\n",
      "Andreas Lehmann; Robert Muralt  Can't find customer Name\n",
      "Daniel Rodriguez Abadie  Everything match\n",
      "Christina Owens  Everything match\n",
      "MIGUEL ANGEL LEON COTE  Everything match\n",
      "James Daglish  Everything match\n",
      "Reyna Weber  Everything match\n",
      "Anna Fohringer 200.08  found in Ok file ,but different price\n",
      "Jesús Alberto Suárez Alvarellos  Can't find customer Name\n",
      "guolong lou  Everything match\n",
      "Dheeraj Somal  Everything match\n",
      "Shaun Mays  Everything match\n",
      "Paola Maria Elisa Rolando  Everything match\n",
      "match:  33\n",
      "diff_price:  7\n",
      "canceled:  0\n",
      "not found:  14\n"
     ]
    }
   ],
   "source": [
    "\n",
    "for index, row in b_df.iterrows():\n",
    "\n",
    "    # initialzie what to compare\n",
    "    name = row['Guest name(s)']\n",
    "    check_in_date = row['Check-in']\n",
    "    check_out_date = row['Check-out']\n",
    "    # print(\"check_in_date: \", check_in_date)\n",
    "    check_in_date = check_in_date.split(\"-\")\n",
    "    # print(\"check_in_date after split: \", check_in_date)\n",
    "    check_out_date = check_out_date.split(\"-\")\n",
    "    price = row['Price'][:-3]\n",
    "    found = False\n",
    "\n",
    "    # check if in ok, but different price\n",
    "    for index_ok, row_ok in o_df.iterrows():\n",
    "        if (same_name(name.lower(), row_ok['Name'].lower())):\n",
    "\n",
    "            if row_ok['Departure'][:2] == \"De\":\n",
    "                departure = row_ok['Departure'][9:]\n",
    "                arrival = row_ok['Arrival'][7:]\n",
    "            else:\n",
    "                departure = row_ok['Departure']\n",
    "                arrival = row_ok['Arrival']\n",
    "            # hotel date\n",
    "            date_format = \"%m/%d/%Y\"\n",
    "            h_departure = datetime.strptime(departure, date_format)\n",
    "            h_arrival = datetime.strptime(arrival, date_format)\n",
    "\n",
    "            # booking.com date\n",
    "\n",
    "            b_checkin = datetime(int(check_in_date[0]), int(check_in_date[1]), int(check_in_date[2]))\n",
    "            b_checkout = datetime(int(check_out_date[0]), int(check_out_date[1]), int(check_out_date[2]))\n",
    "\n",
    "            if (h_arrival == b_checkin) & (h_departure == b_checkout):\n",
    "                found = True\n",
    "                hotel_price = calc_hotel_price(row_ok['Rate'][1:], row_ok['Arrival'], row_ok['Departure'])\n",
    "                price_difference = hotel_price - float(price)\n",
    "                if price_difference != 0.0:\n",
    "                    print(name, price, \"found in Ok file ,but different price\")\n",
    "                    worksheet.write(rowm, coln, name)\n",
    "                    worksheet.write(rowm, coln + 1, price)\n",
    "                    worksheet.write(rowm, coln + 2, hotel_price)\n",
    "                    worksheet.write(rowm, coln + 3, price_difference)\n",
    "                    worksheet.write(rowm, coln + 4, \"Found in OK file, but price is different.\")\n",
    "                    rowm += 1\n",
    "                    diff_price += 1\n",
    "                else:\n",
    "                    match += 1\n",
    "                    print(name, ' Everything match')\n",
    "\n",
    "            break\n",
    "\n",
    "    if (found == False):\n",
    "        # check if in canceled\n",
    "        for index_c, row_c in c_df.iterrows():\n",
    "            if (same_name(name.lower(), row_c['Name'].lower())):\n",
    "                # print(name + \"**BAD***********************************************\")\n",
    "                # worksheet.write(rowm, coln, name)\n",
    "                #\n",
    "                # worksheet.write(rowm, coln + 4, \"Found in Cancel file.\")\n",
    "                # rowm += 1\n",
    "                # found = True\n",
    "                # canceled += 1\n",
    "\n",
    "                if row_c['Departure'][:2] == \"De\":\n",
    "                    departure = row_c['Departure'][9:]\n",
    "                    arrival = row_c['Arrival'][7:]\n",
    "                else:\n",
    "                    departure = row_c['Departure']\n",
    "                    arrival = row_c['Arrival']\n",
    "                    # hotel date\n",
    "                date_format = \"%m/%d/%Y\"\n",
    "                h_departure = datetime.strptime(departure, date_format)\n",
    "                h_arrival = datetime.strptime(arrival, date_format)\n",
    "\n",
    "                # booking.com date\n",
    "\n",
    "                b_checkin = datetime(int(check_in_date[0]), int(check_in_date[1]), int(check_in_date[2]))\n",
    "                b_checkout = datetime(int(check_out_date[0]), int(check_out_date[1]), int(check_out_date[2]))\n",
    "\n",
    "                if (h_arrival == b_checkin) & (h_departure == b_checkout):\n",
    "                    found = True\n",
    "                    hotel_price = calc_hotel_price(row_ok['Rate'][1:], row_ok['Arrival'], row_ok['Departure'])\n",
    "                    price_difference = hotel_price - float(price)\n",
    "\n",
    "                    print(name, price, \"found in CANCEL file\" )\n",
    "                    worksheet.write(rowm, coln, name)\n",
    "                    worksheet.write(rowm, coln + 1, price)\n",
    "                    worksheet.write(rowm, coln + 2, hotel_price)\n",
    "                    worksheet.write(rowm, coln + 3, price_difference)\n",
    "                    worksheet.write(rowm, coln + 4, \"found in CANCEL file, but price is different.\")\n",
    "                    rowm += 1\n",
    "                    diff_price += 1\n",
    "\n",
    "                    break\n",
    "\n",
    "    if found == False:\n",
    "        print(name, \" Can't find customer Name\")\n",
    "        not_found += 1\n",
    "        # workbook_nf.write(row_nf,0,name)\n",
    "        # row_nf += 1\n",
    "\n",
    "workbook.close()\n",
    "workbook_nf.close()\n",
    "\n",
    "print(\"match: \", match)\n",
    "print(\"diff_price: \", diff_price)\n",
    "print(\"canceled: \", canceled)\n",
    "print(\"not found: \", not_found)\n"
   ]
  },
  {
   "cell_type": "code",
   "execution_count": null,
   "metadata": {
    "collapsed": true
   },
   "outputs": [],
   "source": []
  }
 ],
 "metadata": {
  "kernelspec": {
   "display_name": "Python [conda env:p_3.5]",
   "language": "python",
   "name": "conda-env-p_3.5-py"
  },
  "language_info": {
   "codemirror_mode": {
    "name": "ipython",
    "version": 3
   },
   "file_extension": ".py",
   "mimetype": "text/x-python",
   "name": "python",
   "nbconvert_exporter": "python",
   "pygments_lexer": "ipython3",
   "version": "3.5.3"
  }
 },
 "nbformat": 4,
 "nbformat_minor": 1
}
